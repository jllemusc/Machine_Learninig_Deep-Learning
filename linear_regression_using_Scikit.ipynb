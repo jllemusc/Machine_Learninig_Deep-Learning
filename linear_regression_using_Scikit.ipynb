{
  "nbformat": 4,
  "nbformat_minor": 0,
  "metadata": {
    "colab": {
      "provenance": [],
      "authorship_tag": "ABX9TyOvFo53Db1p28Nm4Mx+3ZKn"
    },
    "kernelspec": {
      "name": "python3",
      "display_name": "Python 3"
    },
    "language_info": {
      "name": "python"
    }
  },
  "cells": [
    {
      "cell_type": "markdown",
      "source": [
        "**Linear Regression using Scikit**"
      ],
      "metadata": {
        "id": "IJdQw_8yfrbV"
      }
    },
    {
      "cell_type": "code",
      "execution_count": 2,
      "metadata": {
        "id": "8YAyXAYOfXF8"
      },
      "outputs": [],
      "source": [
        "from sklearn import linear_model \n",
        "import matplotlib.pyplot as plt\n",
        "import numpy as np"
      ]
    },
    {
      "cell_type": "code",
      "source": [
        "n_samples =150\n",
        "X = np.zeros((n_samples,2))\n",
        "y = np.zeros((n_samples, 2))\n",
        "\n",
        "X[:,0]  = np.array(list(range(n_samples)))\n",
        "y[:,0] =  5 + X[:,0]+np.random.rand(n_samples)*20"
      ],
      "metadata": {
        "id": "-5YUUiJdfwq1"
      },
      "execution_count": 15,
      "outputs": []
    },
    {
      "cell_type": "markdown",
      "source": [
        "This is our chosen model"
      ],
      "metadata": {
        "id": "gtlzqZSegVvn"
      }
    },
    {
      "cell_type": "code",
      "source": [
        "linear_regression = linear_model.LinearRegression()\n",
        "linear_regression.fit(X, y) #train model\n",
        "w = linear_regression.coef_\n",
        "b = linear_regression.intercept_\n",
        "print(w[0][0])\n",
        "print(b[0])\n",
        "\n",
        "y_predicted = linear_regression.predict(X)\n",
        "\n",
        "plt.plot (X, y_predicted, 'k-')\n",
        "plt.plot (X, y, 'yo')\n",
        "plt.show()"
      ],
      "metadata": {
        "colab": {
          "base_uri": "https://localhost:8080/",
          "height": 300
        },
        "id": "8YIQcpxDgYLo",
        "outputId": "33d95c15-f75d-4636-8dee-a29fab6443ab"
      },
      "execution_count": 17,
      "outputs": [
        {
          "output_type": "stream",
          "name": "stdout",
          "text": [
            "0.8822495826086271\n",
            "16.932777878371386\n"
          ]
        },
        {
          "output_type": "display_data",
          "data": {
            "text/plain": [
              "<Figure size 432x288 with 1 Axes>"
            ],
            "image/png": "[encoded data removed]"
          },
          "metadata": {
            "needs_background": "light"
          }
        }
      ]
    },
    {
      "cell_type": "markdown",
      "source": [
        "**The result for our linear regression is Y = 16.9 + 0.88(x)**"
      ],
      "metadata": {
        "id": "hUhYRaJDWxZx"
      }
    },
    {
      "cell_type": "markdown",
      "source": [
        "X^3 function doesn't work with  linear regression"
      ],
      "metadata": {
        "id": "anUeaHv8Naet"
      }
    },
    {
      "cell_type": "code",
      "source": [
        "y[:,0] = X[:,0]**3+ np.random.rand(n_samples)*20\n",
        "linear_regression.fit(X,y) # train the model\n",
        "y_predicted = linear_regression.predict(X)"
      ],
      "metadata": {
        "id": "xIOemiolNaPI"
      },
      "execution_count": 20,
      "outputs": []
    },
    {
      "cell_type": "code",
      "source": [
        "plt.plot(X, y_predicted, '-k')\n",
        "plt.plot(X, y, 'go')\n",
        "plt.show()"
      ],
      "metadata": {
        "colab": {
          "base_uri": "https://localhost:8080/",
          "height": 265
        },
        "id": "kfZ0hwG7SUJh",
        "outputId": "015c9b20-18c3-490e-e1b1-a8faec2319c2"
      },
      "execution_count": 23,
      "outputs": [
        {
          "output_type": "display_data",
          "data": {
            "text/plain": [
              "<Figure size 432x288 with 1 Axes>"
            ],
            "image/png": "[encoded data removed]"
          },
          "metadata": {
            "needs_background": "light"
          }
        }
      ]
    }
  ]
}