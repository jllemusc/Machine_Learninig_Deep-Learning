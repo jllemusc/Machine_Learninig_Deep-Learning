{
  "nbformat": 4,
  "nbformat_minor": 0,
  "metadata": {
    "colab": {
      "provenance": [],
      "authorship_tag": "ABX9TyM3vPBV7XXr48OqApDysLTT"
    },
    "kernelspec": {
      "name": "python3",
      "display_name": "Python 3"
    },
    "language_info": {
      "name": "python"
    }
  },
  "cells": [
    {
      "cell_type": "markdown",
      "source": [
        "**MNIST Dataset**"
      ],
      "metadata": {
        "id": "Lo9oPLLrKYoW"
      }
    },
    {
      "cell_type": "code",
      "execution_count": 1,
      "metadata": {
        "id": "5jjI3iVNKDxG"
      },
      "outputs": [],
      "source": [
        "import numpy as np\n",
        "import pandas as pd\n",
        "import matplotlib as mpl\n",
        "import matplotlib.pyplot as plt"
      ]
    },
    {
      "cell_type": "code",
      "source": [
        "mnist = pd.read_csv('/content/MNIST.csv')\n",
        "X= np.array(mnist)\n",
        "X= X[:,0:784]\n",
        "y= mnist ['target']\n",
        "digit = np.zeros((10,10))"
      ],
      "metadata": {
        "id": "edDE11fQKqi3"
      },
      "execution_count": 21,
      "outputs": []
    },
    {
      "cell_type": "code",
      "source": [
        "for i in range(10):\n",
        "  number_index=0; dataset_index=0\n",
        "  while number_index<10:\n",
        "    if y[dataset_index]==i:\n",
        "      digit[i,number_index] = dataset_index\n",
        "      number_index = number_index + 1\n",
        "    dataset_index = dataset_index + 1 "
      ],
      "metadata": {
        "id": "_BHAv4NzN7zV"
      },
      "execution_count": 35,
      "outputs": []
    },
    {
      "cell_type": "markdown",
      "source": [
        "Plot the results "
      ],
      "metadata": {
        "id": "VthjspwETrCy"
      }
    },
    {
      "cell_type": "code",
      "source": [
        "fig, axs = plt.subplots(10,10, figsize=(4,4))\n",
        "for i in range (10):\n",
        "  for j in range(10):\n",
        "    pos = int(digit[i,j])\n",
        "    buffer = X[:,:-1][pos].reshape(8,8)\n",
        "    axs[i,j].imshow(buffer, cmap = mpl.cm.binary, interpolation = 'nearest')\n",
        "    axs[i,j].axis('off')\n",
        "plt.show()"
      ],
      "metadata": {
        "colab": {
          "base_uri": "https://localhost:8080/",
          "height": 248
        },
        "id": "spN18IT2Tqn3",
        "outputId": "5bca288c-51e1-4a17-c9dd-383f95b69a6c"
      },
      "execution_count": 41,
      "outputs": [
        {
          "output_type": "display_data",
          "data": {
            "text/plain": [
              "<Figure size 288x288 with 100 Axes>"
            ],
            "image/png": "[encoded data removed]"
          },
          "metadata": {
            "needs_background": "light"
          }
        }
      ]
    }
  ]
}